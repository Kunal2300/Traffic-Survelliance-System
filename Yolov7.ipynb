{
  "nbformat": 4,
  "nbformat_minor": 0,
  "metadata": {
    "colab": {
      "private_outputs": true,
      "provenance": [],
      "mount_file_id": "1bEqX8IgeGw3SN_-fNd5x02lxwe5KeNF2",
      "authorship_tag": "ABX9TyMutiQU2DBut6F4fB25N1bQ",
      "include_colab_link": true
    },
    "kernelspec": {
      "name": "python3",
      "display_name": "Python 3"
    },
    "language_info": {
      "name": "python"
    },
    "accelerator": "GPU",
    "gpuClass": "standard"
  },
  "cells": [
    {
      "cell_type": "markdown",
      "metadata": {
        "id": "view-in-github",
        "colab_type": "text"
      },
      "source": [
        "<a href=\"https://colab.research.google.com/github/salunkhegr1712/Traffic-Survelliance-System/blob/master/Yolov7.ipynb\" target=\"_parent\"><img src=\"https://colab.research.google.com/assets/colab-badge.svg\" alt=\"Open In Colab\"/></a>"
      ]
    },
    {
      "cell_type": "code",
      "source": [
        "! git clone https://github.com/salunkhegr1712/Yolov7-self"
      ],
      "metadata": {
        "id": "C-c8-v9M6_A0"
      },
      "execution_count": null,
      "outputs": []
    },
    {
      "cell_type": "code",
      "source": [
        "%cd Yolov7-self"
      ],
      "metadata": {
        "id": "_xJZ3-dC7GuR"
      },
      "execution_count": null,
      "outputs": []
    },
    {
      "cell_type": "code",
      "source": [
        "!pip install -r requirements.txt\n",
        "! pip install -r gpu.txt"
      ],
      "metadata": {
        "id": "9DX5tFau7PuA"
      },
      "execution_count": null,
      "outputs": []
    },
    {
      "cell_type": "code",
      "source": [
        "!python train.py --workers 1 --device 0 --batch-size 16 --epochs 100 --img 640 640 --hyp data/hyp.scratch.custom.yaml --name yolov7-custom --weights yolov7.pt\n"
      ],
      "metadata": {
        "id": "BulY5W0z7aWG"
      },
      "execution_count": null,
      "outputs": []
    },
    {
      "cell_type": "code",
      "source": [
        "!python detect.py --weights runs/train/yolov7-custom/weights/best.pt --source data/val/images/"
      ],
      "metadata": {
        "id": "i3OHyFqnbFYS"
      },
      "execution_count": null,
      "outputs": []
    },
    {
      "cell_type": "code",
      "source": [
        "!cp -r runs /content/drive/MyDrive/Project/"
      ],
      "metadata": {
        "id": "fYxPyiMob-Nq"
      },
      "execution_count": null,
      "outputs": []
    }
  ]
}